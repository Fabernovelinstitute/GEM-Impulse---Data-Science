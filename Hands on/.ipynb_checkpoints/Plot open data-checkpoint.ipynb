{
 "cells": [
  {
   "cell_type": "code",
   "execution_count": null,
   "metadata": {
    "collapsed": true
   },
   "outputs": [],
   "source": [
    "\"\"\"\n",
    "Plot any timeserie taken from the https://rte-opendata.opendatasoft.com plateform.\n",
    "Choose parameters below after visiting the portal\n",
    "\n",
    "Step 1 : find the right url on rte-opendata.opendatasoft.com\n",
    "Step 2 : request it \n",
    "Step 3 : save the response it json format\n",
    "Step 4 : create a dataframe with the data with pd.DataFrame.from_dict\n",
    "Step 5 : Clean the datetime column\n",
    "Step 6 : plot\n",
    "\"\"\"\n",
    "\n",
    "%matplotlib inline\n",
    "import re\n",
    "import matplotlib.pyplot as plt\n",
    "import numpy as np\n",
    "import pandas as pd\n",
    "import requests\n"
   ]
  }
 ],
 "metadata": {
  "kernelspec": {
   "display_name": "Python 3",
   "language": "python",
   "name": "python3"
  },
  "language_info": {
   "codemirror_mode": {
    "name": "ipython",
    "version": 3
   },
   "file_extension": ".py",
   "mimetype": "text/x-python",
   "name": "python",
   "nbconvert_exporter": "python",
   "pygments_lexer": "ipython3",
   "version": "3.5.1"
  }
 },
 "nbformat": 4,
 "nbformat_minor": 2
}
