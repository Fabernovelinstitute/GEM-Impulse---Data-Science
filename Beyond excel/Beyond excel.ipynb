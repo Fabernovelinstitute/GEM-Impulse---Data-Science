{
 "cells": [
  {
   "cell_type": "markdown",
   "metadata": {
    "slideshow": {
     "slide_type": "slide"
    }
   },
   "source": [
    "# Beyond Excel"
   ]
  },
  {
   "cell_type": "markdown",
   "metadata": {
    "slideshow": {
     "slide_type": "slide"
    }
   },
   "source": [
    "# Excel is good for :\n",
    "- Non programmers\n",
    "- Ready-to-use data\n",
    "- Quick and visual analysis\n",
    "- 1 user applications"
   ]
  },
  {
   "cell_type": "markdown",
   "metadata": {
    "slideshow": {
     "slide_type": "slide"
    }
   },
   "source": [
    "# Python is good for :\n",
    "EVERYTHING ELSE.  \n",
    "ex : easily expose what you want (simpler interfaces), easier to maintain, multiple simultaneous users\n"
   ]
  },
  {
   "cell_type": "markdown",
   "metadata": {
    "collapsed": true,
    "slideshow": {
     "slide_type": "slide"
    }
   },
   "source": [
    "# But, what is Python ?"
   ]
  },
  {
   "cell_type": "markdown",
   "metadata": {
    "slideshow": {
     "slide_type": "subslide"
    }
   },
   "source": [
    "## Python is a programming language\n"
   ]
  },
  {
   "cell_type": "markdown",
   "metadata": {
    "collapsed": true,
    "slideshow": {
     "slide_type": "subslide"
    }
   },
   "source": [
    "## Used by a lot of people\n",
    "Google, Nasa, Youtube, Dropbox, Reddit, Instagram, MIT ... [list of most Popular Languages (TIOBE Index for May 2017)](https://insights.stackoverflow.com/trends?tags=java%2Cc%2Cc%2B%2B%2Cpython%2Cc%23%2Cvb.net%2Cassembly%2Cphp%2Cperl%2Cruby%2Cswift%2Cr%2Cobjective-c%2Cjavascript)"
   ]
  },
  {
   "cell_type": "markdown",
   "metadata": {
    "slideshow": {
     "slide_type": "subslide"
    }
   },
   "source": [
    "## Free and opensource\n",
    "Everyone can use it, for any purpose. Platforms, websites, cryptography, machine learning, games, softwares, calculation...  \n",
    "Everything is very well documented : [official documentation](https://docs.python.org/3/)"
   ]
  },
  {
   "cell_type": "markdown",
   "metadata": {
    "slideshow": {
     "slide_type": "subslide"
    }
   },
   "source": [
    "## Easy to learn\n",
    "It looks like english pseudo-code"
   ]
  },
  {
   "cell_type": "markdown",
   "metadata": {
    "slideshow": {
     "slide_type": "slide"
    }
   },
   "source": [
    "# About this notebook\n",
    "This notebook is a useful way to run code during a presentation but there are multiple other ways to write and run some Python code.   \n",
    "For example you can open up a shell command and type \"python\".  \n",
    "Or write your code inside a ``.py`` file with a text editor and launch the script from the same shell.  \n"
   ]
  },
  {
   "cell_type": "markdown",
   "metadata": {
    "slideshow": {
     "slide_type": "slide"
    }
   },
   "source": [
    "# A taste of Python data structures\n",
    "Python uses many different objects to store data.   \n",
    "They all have their specifications and their custom methods.  \n",
    "We are going to focus on the two main ones (lists and dicts) which are representative of the \"Python spirit\". "
   ]
  },
  {
   "cell_type": "markdown",
   "metadata": {
    "slideshow": {
     "slide_type": "slide"
    }
   },
   "source": [
    "## Lists\n",
    "Lists are ordered sequence of values.   \n",
    "You can create, update, concatenate, loop, search, index, add, slice, delete, analyse ..."
   ]
  },
  {
   "cell_type": "code",
   "execution_count": 1,
   "metadata": {
    "slideshow": {
     "slide_type": "subslide"
    }
   },
   "outputs": [
    {
     "data": {
      "text/plain": [
       "['cat', 'bat', 'rat', 'elephant', 'ants', 'dogs']"
      ]
     },
     "execution_count": 1,
     "metadata": {},
     "output_type": "execute_result"
    }
   ],
   "source": [
    "# Here we create a list called zoo with 6 elements\n",
    "zoo = ['cat', 'bat', 'rat', 'elephant','ants','dogs']\n",
    "zoo"
   ]
  },
  {
   "cell_type": "code",
   "execution_count": 87,
   "metadata": {
    "slideshow": {
     "slide_type": "fragment"
    }
   },
   "outputs": [
    {
     "data": {
      "text/plain": [
       "'cat'"
      ]
     },
     "execution_count": 87,
     "metadata": {},
     "output_type": "execute_result"
    }
   ],
   "source": [
    "# we can get any element of the list by calling its position\n",
    "zoo[0] "
   ]
  },
  {
   "cell_type": "code",
   "execution_count": 110,
   "metadata": {
    "slideshow": {
     "slide_type": "fragment"
    }
   },
   "outputs": [
    {
     "data": {
      "text/plain": [
       "True"
      ]
     },
     "execution_count": 110,
     "metadata": {},
     "output_type": "execute_result"
    }
   ],
   "source": [
    " # We can  check i f an el ement is in the list with the keyword \"in\"\n",
    "'cat' in zoo"
   ]
  },
  {
   "cell_type": "code",
   "execution_count": 102,
   "metadata": {
    "slideshow": {
     "slide_type": "subslide"
    }
   },
   "outputs": [
    {
     "name": "stdout",
     "output_type": "stream",
     "text": [
      "cat\n",
      "bat\n",
      "rat\n",
      "elephant\n",
      "ants\n",
      "dogs\n",
      "1\n"
     ]
    }
   ],
   "source": [
    "# We can loop on our list with the keyword \"for....in\". The name \"animal\" is arbitrary. \n",
    "for animal in zoo:\n",
    "    print(animal)"
   ]
  },
  {
   "cell_type": "code",
   "execution_count": 103,
   "metadata": {
    "slideshow": {
     "slide_type": "subslide"
    }
   },
   "outputs": [
    {
     "data": {
      "text/plain": [
       "['cat', 'rat', 'elephant', 'ants', 'dogs', 1, 'lion']"
      ]
     },
     "execution_count": 103,
     "metadata": {},
     "output_type": "execute_result"
    }
   ],
   "source": [
    "# \"append\" is one of the many methods we can use on our list. It adds an element at the end of the list\n",
    "zoo.append(\"lion\")\n",
    "# Try to search on google \"remove an element from a python list\"\n",
    "zoo.remove(\"bat\")\n",
    "zoo "
   ]
  },
  {
   "cell_type": "code",
   "execution_count": 104,
   "metadata": {
    "slideshow": {
     "slide_type": "fragment"
    }
   },
   "outputs": [
    {
     "data": {
      "text/plain": [
       "7"
      ]
     },
     "execution_count": 104,
     "metadata": {},
     "output_type": "execute_result"
    }
   ],
   "source": [
    "  # We can check the length of our list\n",
    "len(zoo)  "
   ]
  },
  {
   "cell_type": "code",
   "execution_count": 105,
   "metadata": {
    "slideshow": {
     "slide_type": "fragment"
    }
   },
   "outputs": [
    {
     "data": {
      "text/plain": [
       "6"
      ]
     },
     "execution_count": 105,
     "metadata": {},
     "output_type": "execute_result"
    }
   ],
   "source": [
    "# Find the position of a specific element\n",
    "zoo.index('lion') "
   ]
  },
  {
   "cell_type": "code",
   "execution_count": 113,
   "metadata": {
    "slideshow": {
     "slide_type": "subslide"
    }
   },
   "outputs": [
    {
     "name": "stdout",
     "output_type": "stream",
     "text": [
      "['ants', 'bat', 'cat', 'dogs', 'elephant', 'rat']\n",
      "['bat', 'cat', 'rat', 'ants', 'dogs', 'elephant']\n"
     ]
    }
   ],
   "source": [
    "# Sort all the elements alphabetically\n",
    "zoo.sort()\n",
    "print(zoo)\n",
    "# Or by length\n",
    "zoo.sort(key=len)\n",
    "print(zoo)"
   ]
  },
  {
   "cell_type": "markdown",
   "metadata": {
    "slideshow": {
     "slide_type": "slide"
    }
   },
   "source": [
    "## Dicts\n",
    "Like a list, a dictionary is a collection of many values.  \n",
    "But unlike indexes for lists which are integers (zoo[4]), indexes for dicts can be strings or any other type. \n",
    "Indexes for dictionaries are called keys.  \n",
    "Also dicts are unordered. "
   ]
  },
  {
   "cell_type": "code",
   "execution_count": 114,
   "metadata": {
    "collapsed": true,
    "slideshow": {
     "slide_type": "subslide"
    }
   },
   "outputs": [],
   "source": [
    "# Creation of a dictionnary called \"earth\"\n",
    "earth = {\"sky\":\"blue\",\"sun\":\"yellow\",\"tree\":\"green\"}"
   ]
  },
  {
   "cell_type": "code",
   "execution_count": 115,
   "metadata": {
    "slideshow": {
     "slide_type": "fragment"
    }
   },
   "outputs": [
    {
     "data": {
      "text/plain": [
       "'blue'"
      ]
     },
     "execution_count": 115,
     "metadata": {},
     "output_type": "execute_result"
    }
   ],
   "source": [
    "# Get an element of the dictionnary. It is the same idea as zoo[4], but with a name instead of a number\n",
    "earth[\"sky\"]"
   ]
  },
  {
   "cell_type": "code",
   "execution_count": 116,
   "metadata": {
    "slideshow": {
     "slide_type": "fragment"
    }
   },
   "outputs": [
    {
     "data": {
      "text/plain": [
       "True"
      ]
     },
     "execution_count": 116,
     "metadata": {},
     "output_type": "execute_result"
    }
   ],
   "source": [
    "# Check if a key is  in a dictionnary. \n",
    "'sky' in earth "
   ]
  },
  {
   "cell_type": "code",
   "execution_count": 118,
   "metadata": {
    "slideshow": {
     "slide_type": "subslide"
    }
   },
   "outputs": [
    {
     "name": "stdout",
     "output_type": "stream",
     "text": [
      "sky is blue\n",
      "sun is yellow\n",
      "tree is green\n"
     ]
    }
   ],
   "source": [
    "# Loop on a dictionnary\n",
    "for key in earth:\n",
    "    print(key, \"is\", earth[key])"
   ]
  },
  {
   "cell_type": "code",
   "execution_count": 119,
   "metadata": {
    "slideshow": {
     "slide_type": "fragment"
    }
   },
   "outputs": [
    {
     "data": {
      "text/plain": [
       "3"
      ]
     },
     "execution_count": 119,
     "metadata": {},
     "output_type": "execute_result"
    }
   ],
   "source": [
    "# Check the lengt h of a dictionnar y. Many methods work the same on different types. \n",
    "len(earth)   "
   ]
  },
  {
   "cell_type": "code",
   "execution_count": 120,
   "metadata": {
    "slideshow": {
     "slide_type": "fragment"
    }
   },
   "outputs": [
    {
     "data": {
      "text/plain": [
       "{'sky': 'blue', 'snow': 'white', 'sun': 'yellow', 'tree': 'green'}"
      ]
     },
     "execution_count": 120,
     "metadata": {},
     "output_type": "execute_result"
    }
   ],
   "source": [
    "  # Create a n  ew element\n",
    "earth[\"snow\"]=\"white\"\n",
    "earth"
   ]
  },
  {
   "cell_type": "markdown",
   "metadata": {
    "slideshow": {
     "slide_type": "slide"
    }
   },
   "source": [
    "## CSV\n",
    "CSV stands for “comma-separated values”.  \n",
    "CSV files are simplified spreadsheets stored as plaintext files.  \n",
    "Python’s csv module makes it easy to parse CSV files.  \n",
    "The advantage of CSV files is simplicity.   \n",
    "They are widely supported by many types of programs, can be viewed in text editors (including IDLE’s file editor), and are a straightforward way to represent spreadsheet data."
   ]
  },
  {
   "cell_type": "code",
   "execution_count": 123,
   "metadata": {
    "slideshow": {
     "slide_type": "subslide"
    }
   },
   "outputs": [
    {
     "name": "stdout",
     "output_type": "stream",
     "text": [
      "['Name', 'Quantity']\n",
      "['Bananas', '3']\n",
      "['Oranges', '4']\n",
      "['Apples', '5']\n"
     ]
    }
   ],
   "source": [
    "# This is how we import a library in Python \n",
    "# Inside this \"csv\" library are stored many useful csv functions accessible through a \".\"\n",
    "import csv\n",
    " \n",
    "# Open the \"basket.csv\" file in the current directory and write 4 rows in it.\n",
    "with open('./data/basket.csv', 'w') as csvfile:\n",
    "    filewriter = csv.writer(csvfile, delimiter=',')\n",
    "    filewriter.writerow(['Name', 'Quantity'])\n",
    "    filewriter.writerow(['Bananas', 3])\n",
    "    filewriter.writerow(['Oranges', 4])\n",
    "    filewriter.writerow(['Apples', 5])\n",
    "\n",
    "    \n",
    "    \n",
    "# Open the same file and read its content\n",
    "with open('./data/basket.csv', 'r') as f:\n",
    "    reader = csv.reader(f)\n",
    "    # read file row by row\n",
    "    for row in reader:\n",
    "        print(row)"
   ]
  },
  {
   "cell_type": "code",
   "execution_count": 126,
   "metadata": {
    "collapsed": true,
    "slideshow": {
     "slide_type": "subslide"
    }
   },
   "outputs": [],
   "source": [
    "# Example of script to merge csv files\n",
    "# Data taken here : https://rte-opendata.opendatasoft.com/explore/dataset/prod_region_annuelle_enr/\n",
    "from glob import glob\n",
    "with open('./data/merged.csv', 'a') as singleFile:\n",
    "    singleFile.write('Index,Année,Région,insee_region,Production hydraulique renouvelable (GWh),Production bioénergie renouvelable (GWh),Production éolienne renouvelable (GWh),Production solaire renouvelable (GWh)\\n')\n",
    "    for csvFile in glob('./data/prod*.csv'):\n",
    "        for line in open(csvFile, 'r'):\n",
    "            singleFile.write(line)"
   ]
  },
  {
   "cell_type": "markdown",
   "metadata": {
    "slideshow": {
     "slide_type": "slide"
    }
   },
   "source": [
    "# JSON\n",
    "When exchanging data between a browser and a server, the data can only be text.  \n",
    "JSON (JavaScript Object Notation) is a lightweight text format that is used for data interchanging.  \n",
    "JSON is useful to know, because many websites offer JSON content as a way for programs to interact with the website. This is known as providing an application programming interface (API)."
   ]
  },
  {
   "cell_type": "code",
   "execution_count": 128,
   "metadata": {
    "slideshow": {
     "slide_type": "subslide"
    }
   },
   "outputs": [
    {
     "name": "stdout",
     "output_type": "stream",
     "text": [
      "Peggy Whitson\n",
      "Fyodor Yurchikhin\n",
      "Jack Fischer\n"
     ]
    }
   ],
   "source": [
    "# Requests is a library to get web page contents inside our code\n",
    "# This script gets some json information on an API and prints it\n",
    "import requests\n",
    "\n",
    "data = requests.get('http://api.open-notify.org/astros.json').json()\n",
    "for people in data['people']:\n",
    "    print(people['name'])"
   ]
  },
  {
   "cell_type": "code",
   "execution_count": 129,
   "metadata": {
    "slideshow": {
     "slide_type": "subslide"
    }
   },
   "outputs": [
    {
     "name": "stdout",
     "output_type": "stream",
     "text": [
      "New position saved\n",
      "New position saved\n",
      "New position saved\n",
      "New position saved\n",
      "New position saved\n",
      "Done !\n"
     ]
    }
   ],
   "source": [
    "# This script asks some information to an API every 2 seconds and saves it in a csv\n",
    "\n",
    "import csv\n",
    "import time\n",
    "import datetime\n",
    "\n",
    "with open('./data/iss-flight.csv', 'w+') as csvfile:\n",
    "    filewriter = csv.writer(csvfile, delimiter=',')\n",
    "    filewriter.writerow(['Time','Latitude','Longitude'])\n",
    "    for i in range(5):\n",
    "        position = requests.get('http://api.open-notify.org/iss-now.json').json()\n",
    "        filewriter.writerow([\n",
    "            position['timestamp'],\n",
    "            position['iss_position']['latitude'], \n",
    "            position['iss_position']['longitude']\n",
    "        ])\n",
    "        print(\"New position saved\")\n",
    "        time.sleep(2)\n",
    "print('Done !')"
   ]
  },
  {
   "cell_type": "markdown",
   "metadata": {
    "slideshow": {
     "slide_type": "slide"
    }
   },
   "source": [
    "# A taste of Python power\n",
    "Python has a huge number of opensource libraries that makes it super powerful.   \n",
    "A library is a set of reusable pre-coded functionalities, like a \"black box\". \n",
    "\n",
    "There is a library for pretty much everything related to computers.  \n",
    "Manipulating images, create games, softwares, linear algebra, search algorithms ...  \n",
    "Here are a few examples. \n"
   ]
  },
  {
   "cell_type": "markdown",
   "metadata": {
    "slideshow": {
     "slide_type": "slide"
    }
   },
   "source": [
    "# Regex\n",
    "\n",
    "A regular expression (or \"regex\") is a sequence of characters that define a search pattern.   \n",
    "Usually this pattern is then used by string searching algorithms for \"find\" or \"find and replace\" operations on strings."
   ]
  },
  {
   "cell_type": "code",
   "execution_count": 134,
   "metadata": {
    "slideshow": {
     "slide_type": "fragment"
    }
   },
   "outputs": [
    {
     "name": "stdout",
     "output_type": "stream",
     "text": [
      "['lucas.berbesson@fabdev.fr', 'aurelien.dupont@fabernovel.fr', 'claire.protin@fabdev.fr', 'adrien.destrez@fabernovel.fr', 'isabelle.kocher@engie.fr', 'francois.truong@fabernovel.fr']\n"
     ]
    }
   ],
   "source": [
    "# Script to match all the fabdev.fr emails inside a .txt file\n",
    "import re\n",
    "results = []\n",
    "# Modify the script to match all the emails \n",
    "for line in open('./data/lorem.txt'):\n",
    "    results = results + re.findall(r'[\\w\\.-]+@[\\w\\.-]+', line)\n",
    "print(results)"
   ]
  },
  {
   "cell_type": "markdown",
   "metadata": {
    "slideshow": {
     "slide_type": "slide"
    }
   },
   "source": [
    "# Sending emails\n",
    "The smtplib module defines an SMTP client session object that can be used to send mail to any Internet machine."
   ]
  },
  {
   "cell_type": "code",
   "execution_count": 135,
   "metadata": {
    "slideshow": {
     "slide_type": "fragment"
    }
   },
   "outputs": [
    {
     "data": {
      "text/plain": [
       "(221, b'2.0.0 closing connection g28sm7253789eda.58 - gsmtp')"
      ]
     },
     "execution_count": 135,
     "metadata": {},
     "output_type": "execute_result"
    }
   ],
   "source": [
    "# Send the result of the previous script to lucas.berbesson@fabdev.fr with the smtp library. \n",
    "import os\n",
    "import smtplib \n",
    "server = smtplib.SMTP('smtp.gmail.com', 587)\n",
    "server.starttls()\n",
    "server.login(\"lucasberbesson@gmail.com\", os.environ['MY_PWD'])\n",
    "msg = \"I found {} emails in lorem.txt\".format(len(results))\n",
    "server.sendmail(\"lucasberbesson@gmail.com\",\"lucas.berbesson@fabdev.fr\", msg)\n",
    "server.quit()"
   ]
  },
  {
   "cell_type": "markdown",
   "metadata": {
    "collapsed": true,
    "slideshow": {
     "slide_type": "slide"
    }
   },
   "source": [
    "# BeautifulSoup : XML and HTML parser\n",
    "A Python library for pulling data out of HTML and XML files. [Documentation](https://www.crummy.com/software/BeautifulSoup/bs4/doc/)"
   ]
  },
  {
   "cell_type": "code",
   "execution_count": 137,
   "metadata": {
    "slideshow": {
     "slide_type": "subslide"
    }
   },
   "outputs": [
    {
     "data": {
      "text/html": [
       "<a class=\"article usg-AFQjCNFVP8-Ycot682Ad-DvoQWeMMAOkvg did--1947274621642193604\" href=\"http://www.usinenouvelle.com/article/l-americain-eqt-producteur-de-gaz-et-de-petrole-acquiert-rice-energy-pour-6-7-milliards-de-dollars.N554823\" id=\"MAA4AEgAUABgAWoCZnJ6AA\" target=\"_blank\" url=\"http://www.usinenouvelle.com/article/l-americain-eqt-producteur-de-gaz-et-de-petrole-acquiert-rice-energy-pour-6-7-milliards-de-dollars.N554823\"><span class=\"titletext\">L'américain EQT, producteur de gaz et de pétrole, acquiert Rice ...</span></a>"
      ],
      "text/plain": [
       "<IPython.core.display.HTML object>"
      ]
     },
     "metadata": {},
     "output_type": "display_data"
    },
    {
     "data": {
      "text/html": [
       "<a class=\"article usg-AFQjCNHNf1ULErIopsKKHHkVK794McbhEw did--1758904030347193595\" href=\"http://www.batipresse.com/2017/06/20/euroelec-smart-energy-our-partner-thinking-future/\" id=\"MAA4AEgBUABgAWoCZnJ6AA\" target=\"_blank\" url=\"http://www.batipresse.com/2017/06/20/euroelec-smart-energy-our-partner-thinking-future/\"><span class=\"titletext\">Euroelec-Smart <b>Energy</b>, Our Partner thinking future</span></a>"
      ],
      "text/plain": [
       "<IPython.core.display.HTML object>"
      ]
     },
     "metadata": {},
     "output_type": "display_data"
    },
    {
     "data": {
      "text/html": [
       "<a class=\"article usg-AFQjCNELb0ZIfHpEbkhcOnndal85N2Ml0g did--3554975428918896246\" href=\"http://www.dakaractu.com/PETROLE-Cairn-Energy-partenaire-d-African-Petroleum-sur-Senegal-Offshore-Sud-profond_a133444.html\" id=\"MAA4AEgCUABgAWoCZnJ6AA\" target=\"_blank\" url=\"http://www.dakaractu.com/PETROLE-Cairn-Energy-partenaire-d-African-Petroleum-sur-Senegal-Offshore-Sud-profond_a133444.html\"><span class=\"titletext\">PÉTROLE : Cairn Energy, partenaire d'African Petroleum sur ...</span></a>"
      ],
      "text/plain": [
       "<IPython.core.display.HTML object>"
      ]
     },
     "metadata": {},
     "output_type": "display_data"
    },
    {
     "data": {
      "text/html": [
       "<a class=\"article usg-AFQjCNGXK75NBWidMX8hYpUN2lNWY-KR7w did--7842810381559793803\" href=\"http://leconomiste.com/article/1013850-vivo-energy-couverture-medicale-pour-le-personnel-des-stations-service\" id=\"MAA4AEgDUABgAWoCZnJ6AA\" target=\"_blank\" url=\"http://leconomiste.com/article/1013850-vivo-energy-couverture-medicale-pour-le-personnel-des-stations-service\"><span class=\"titletext\">Vivo <b>Energy</b>: Couverture médicale pour le personnel des stations ...</span></a>"
      ],
      "text/plain": [
       "<IPython.core.display.HTML object>"
      ]
     },
     "metadata": {},
     "output_type": "display_data"
    },
    {
     "data": {
      "text/html": [
       "<a class=\"article usg-AFQjCNE9glbbbTVV2ELRgLEvlQgKIR5nvw did--4133548690178364023\" href=\"http://www.usinenouvelle.com/editorial/total-energy-ventures-investit-dans-l-espagnol-ontruck.N552348\" id=\"MAA4AEgEUABgAWoCZnJ6AA\" target=\"_blank\" url=\"http://www.usinenouvelle.com/editorial/total-energy-ventures-investit-dans-l-espagnol-ontruck.N552348\"><span class=\"titletext\">Total <b>Energy</b> Ventures investit dans l'espagnol OnTruck</span></a>"
      ],
      "text/plain": [
       "<IPython.core.display.HTML object>"
      ]
     },
     "metadata": {},
     "output_type": "display_data"
    },
    {
     "data": {
      "text/html": [
       "<a class=\"article usg-AFQjCNGEapH-Bg5fPgmvlMJZtt9huv8Pkg did--5776984720746909383\" href=\"http://www.leseco.ma/derniere-minute/58290-assurance-maladie-vivo-energy-maroc-signe-un-contrat-avec-atlanta.html\" id=\"MAA4AEgFUABgAWoCZnJ6AA\" target=\"_blank\" url=\"http://www.leseco.ma/derniere-minute/58290-assurance-maladie-vivo-energy-maroc-signe-un-contrat-avec-atlanta.html\"><span class=\"titletext\">Assurance maladie : Vivo <b>Energy</b> Maroc signe un contrat avec Atlanta</span></a>"
      ],
      "text/plain": [
       "<IPython.core.display.HTML object>"
      ]
     },
     "metadata": {},
     "output_type": "display_data"
    },
    {
     "data": {
      "text/html": [
       "<a class=\"article usg-AFQjCNGnjATU3330GfwgYmw_PO8e2-t03Q did-4932369678943249883\" href=\"http://www.connaissancedesenergies.org/une-solution-de-stockage-pour-optimiser-lautoconsommation-170613\" id=\"MAA4AEgGUABgAWoCZnJ6AA\" target=\"_blank\" url=\"http://www.connaissancedesenergies.org/une-solution-de-stockage-pour-optimiser-lautoconsommation-170613\"><span class=\"titletext\">Une solution de stockage pour optimiser l'autoconsommation</span></a>"
      ],
      "text/plain": [
       "<IPython.core.display.HTML object>"
      ]
     },
     "metadata": {},
     "output_type": "display_data"
    },
    {
     "data": {
      "text/html": [
       "<a class=\"article usg-AFQjCNFlG_eiakRMrH4_iBjJye3huWm9pw did--6706840982223236496\" href=\"http://www.maison-et-domotique.com/75304-full-home-energy-domotique-photovoltaique-autoconsommation/\" id=\"MAA4AEgHUABgAWoCZnJ6AA\" target=\"_blank\" url=\"http://www.maison-et-domotique.com/75304-full-home-energy-domotique-photovoltaique-autoconsommation/\"><span class=\"titletext\">Full Home <b>Energy</b>: domotique et photovoltaïque au service de l ...</span></a>"
      ],
      "text/plain": [
       "<IPython.core.display.HTML object>"
      ]
     },
     "metadata": {},
     "output_type": "display_data"
    },
    {
     "data": {
      "text/html": [
       "<a class=\"article usg-AFQjCNEPnQHtdMJ3ofWnoB8qcoNqpfmK_g did--4326607054661252398\" href=\"http://www.ndarinfo.com/Exploitation-du-Gaz-et-du-Petrole-KOSMOS-ENERGY-s-entretient-avec-les-Saint-Louisiens-video_a19219.html\" id=\"MAA4AEgIUABgAWoCZnJ6AA\" target=\"_blank\" url=\"http://www.ndarinfo.com/Exploitation-du-Gaz-et-du-Petrole-KOSMOS-ENERGY-s-entretient-avec-les-Saint-Louisiens-video_a19219.html\"><span class=\"titletext\">Exploitation du Gaz et du Pétrole : KOSMOS <b>ENERGY</b> s'entretient ...</span></a>"
      ],
      "text/plain": [
       "<IPython.core.display.HTML object>"
      ]
     },
     "metadata": {},
     "output_type": "display_data"
    },
    {
     "data": {
      "text/html": [
       "<a class=\"article usg-AFQjCNF0d9VW21XZwEzFUlk1tUrO1fEGrA did-1360741385599573226\" href=\"http://www.us-racing.com/Info-2017-06-19-flash-larson-s-impose-au-michigan.html\" id=\"MAA4AEgJUABgAWoCZnJ6AA\" target=\"_blank\" url=\"http://www.us-racing.com/Info-2017-06-19-flash-larson-s-impose-au-michigan.html\"><span class=\"titletext\">'Flash' Larson s'impose au Michigan</span></a>"
      ],
      "text/plain": [
       "<IPython.core.display.HTML object>"
      ]
     },
     "metadata": {},
     "output_type": "display_data"
    },
    {
     "data": {
      "text/html": [
       "<a class=\"article usg-AFQjCNGc23HCL-KNgYVfwsX3v8EyPLfeoQ did--3126686143658855771\" href=\"http://www.challenge.ma/vivo-energy-lance-une-assurance-maladie-au-profit-de-son-personnel-indirect-84916/\" id=\"MAA4AEgKUABgAWoCZnJ6AA\" target=\"_blank\" url=\"http://www.challenge.ma/vivo-energy-lance-une-assurance-maladie-au-profit-de-son-personnel-indirect-84916/\"><span class=\"titletext\">Vivo <b>Energy</b> lance une assurance maladie au profit de son ...</span></a>"
      ],
      "text/plain": [
       "<IPython.core.display.HTML object>"
      ]
     },
     "metadata": {},
     "output_type": "display_data"
    },
    {
     "data": {
      "text/html": [
       "<a class=\"article usg-AFQjCNFvLFY4m95nluMrHEhi1sY3gpbBGg did-2412372100487371468\" href=\"http://www.financialafrik.com/2017/06/14/aiim-capital-sinvite-dans-le-tour-de-table-dalbatros-energy-mali/\" id=\"MAA4AEgLUABgAWoCZnJ6AA\" target=\"_blank\" url=\"http://www.financialafrik.com/2017/06/14/aiim-capital-sinvite-dans-le-tour-de-table-dalbatros-energy-mali/\"><span class=\"titletext\">AIIM Capital s'invite dans le tour de table d'Albatros <b>Energy</b> Mali</span></a>"
      ],
      "text/plain": [
       "<IPython.core.display.HTML object>"
      ]
     },
     "metadata": {},
     "output_type": "display_data"
    },
    {
     "data": {
      "text/html": [
       "<a class=\"article usg-AFQjCNHg55FGg6ZJa04-2gtBDPr7aNxtsQ did-2748441503744829016\" href=\"http://www.zonebourse.com/ELECTRICITE-DE-FRANCE-4998/actualite/EDF-EDF-Energy-Services-acquiert-Imtech-24551195/\" id=\"MAA4AEgMUABgAWoCZnJ6AA\" target=\"_blank\" url=\"http://www.zonebourse.com/ELECTRICITE-DE-FRANCE-4998/actualite/EDF-EDF-Energy-Services-acquiert-Imtech-24551195/\"><span class=\"titletext\">EDF : EDF <b>Energy</b> Services acquiert Imtech</span></a>"
      ],
      "text/plain": [
       "<IPython.core.display.HTML object>"
      ]
     },
     "metadata": {},
     "output_type": "display_data"
    },
    {
     "data": {
      "text/html": [
       "<a class=\"article usg-AFQjCNHkObqZTe9I-BYWCntnLZ9GBm1s7w did--4032158780560383692\" href=\"http://www.2m.ma/fr/news/sound-energy-etend-son-exploration-gaziere-dans-la-region-dessaouira-20170613/\" id=\"MAA4AEgNUABgAWoCZnJ6AA\" target=\"_blank\" url=\"http://www.2m.ma/fr/news/sound-energy-etend-son-exploration-gaziere-dans-la-region-dessaouira-20170613/\"><span class=\"titletext\">Sound <b>Energy</b> démarre l'exploration gazière dans la région d ...</span></a>"
      ],
      "text/plain": [
       "<IPython.core.display.HTML object>"
      ]
     },
     "metadata": {},
     "output_type": "display_data"
    },
    {
     "data": {
      "text/html": [
       "<a class=\"article usg-AFQjCNHH2Ve7YVAmN4bKlyky7acb4VNNuQ did--1242626075830739672\" href=\"http://www.agenceecofin.com/investissement/1306-48092-mali-aiim-capital-acquiert-44-du-capital-d-albatros-energy\" id=\"MAA4AEgOUABgAWoCZnJ6AA\" target=\"_blank\" url=\"http://www.agenceecofin.com/investissement/1306-48092-mali-aiim-capital-acquiert-44-du-capital-d-albatros-energy\"><span class=\"titletext\">Mali : AIIM Capital acquiert 44% du capital d'Albatros <b>Energy</b></span></a>"
      ],
      "text/plain": [
       "<IPython.core.display.HTML object>"
      ]
     },
     "metadata": {},
     "output_type": "display_data"
    },
    {
     "data": {
      "text/html": [
       "<a class=\"article usg-AFQjCNEq-S-f73a5Q30nWdZtlxLBi21CKQ did-4479576352479990311\" href=\"http://www.boursier.com/actions/actualites/news/passation-de-pouvoir-a-l-automne-aux-commandes-d-edf-energy-730781.html\" id=\"MAA4AEgPUABgAWoCZnJ6AA\" target=\"_blank\" url=\"http://www.boursier.com/actions/actualites/news/passation-de-pouvoir-a-l-automne-aux-commandes-d-edf-energy-730781.html\"><span class=\"titletext\">Passation de pouvoir à l'automne aux commandes d'EDF <b>Energy</b></span></a>"
      ],
      "text/plain": [
       "<IPython.core.display.HTML object>"
      ]
     },
     "metadata": {},
     "output_type": "display_data"
    },
    {
     "data": {
      "text/html": [
       "<a class=\"article usg-AFQjCNHQ6loHHgyuImIX4rx5v08v9rh1sA did-7790136111961283837\" href=\"https://www.greenunivers.com/2017/06/japon-energy-pool-profite-dun-effacement-plus-remunerateur-quen-france-163538/\" id=\"MAA4AEgQUABgAWoCZnJ6AA\" target=\"_blank\" url=\"https://www.greenunivers.com/2017/06/japon-energy-pool-profite-dun-effacement-plus-remunerateur-quen-france-163538/\"><span class=\"titletext\">Au Japon, <b>Energy</b> Pool profite d'un effacement plus rémunérateur qu ...</span></a>"
      ],
      "text/plain": [
       "<IPython.core.display.HTML object>"
      ]
     },
     "metadata": {},
     "output_type": "display_data"
    },
    {
     "data": {
      "text/html": [
       "<a class=\"article usg-AFQjCNEwPWAOh2vyTaCsG8B3jvsSOv7gtQ did--3981405525956282774\" href=\"http://lemondedudroit.fr/deals-profession-avocat/229141--white-a-case-a-conseille-eren-renewable-energy.html\" id=\"MAA4AEgRUABgAWoCZnJ6AA\" target=\"_blank\" url=\"http://lemondedudroit.fr/deals-profession-avocat/229141--white-a-case-a-conseille-eren-renewable-energy.html\"><span class=\"titletext\">White &amp; Case a conseillé EREN Renewable <b>Energy</b></span></a>"
      ],
      "text/plain": [
       "<IPython.core.display.HTML object>"
      ]
     },
     "metadata": {},
     "output_type": "display_data"
    },
    {
     "data": {
      "text/html": [
       "<a class=\"article usg-AFQjCNHugIaaKo3Qqjo6j4C067lctkjAZg did-6038937513741578172\" href=\"http://aminata.com/vivo-energy-guinee-offre-plusieurs-tonnes-de-vivres-a-la-population-de-fria/\" id=\"MAA4AEgSUABgAWoCZnJ6AA\" target=\"_blank\" url=\"http://aminata.com/vivo-energy-guinee-offre-plusieurs-tonnes-de-vivres-a-la-population-de-fria/\"><span class=\"titletext\">Vivo <b>Energy</b> Guinée offre plusieurs tonnes de vivres à la population ...</span></a>"
      ],
      "text/plain": [
       "<IPython.core.display.HTML object>"
      ]
     },
     "metadata": {},
     "output_type": "display_data"
    },
    {
     "data": {
      "text/html": [
       "<a class=\"article usg-AFQjCNEuZ4eJ3qzhbrcPVgTSS5JzZRddRw did--8373670281254956484\" href=\"http://www.zonebourse.com/SDX-ENERGY-INC-24203333/actualite/SDX-Energy-decroche-un-nouveau-permis-dans-le-Gharb-pour-8-ans-24552082/\" id=\"MAA4AEgTUABgAWoCZnJ6AA\" target=\"_blank\" url=\"http://www.zonebourse.com/SDX-ENERGY-INC-24203333/actualite/SDX-Energy-decroche-un-nouveau-permis-dans-le-Gharb-pour-8-ans-24552082/\"><span class=\"titletext\">SDX <b>Energy</b> : décroche un nouveau permis dans le Gharb pour 8 ans</span></a>"
      ],
      "text/plain": [
       "<IPython.core.display.HTML object>"
      ]
     },
     "metadata": {},
     "output_type": "display_data"
    }
   ],
   "source": [
    "# Print all recent news related to \"energie\"\n",
    "import requests\n",
    "from IPython.core.display import display, HTML\n",
    "from bs4 import BeautifulSoup\n",
    "\n",
    "r = requests.get('https://news.google.com/news/section?q={energy}&ned=fr')\n",
    "soup = BeautifulSoup(r.text, \"lxml\")\n",
    "for link in soup.select(\"h2.esc-lead-article-title a\"):\n",
    "    display(HTML(str(link)))"
   ]
  },
  {
   "cell_type": "markdown",
   "metadata": {
    "collapsed": true,
    "slideshow": {
     "slide_type": "slide"
    }
   },
   "source": [
    "# Time & Datetime\n",
    "The datetime module supplies classes for manipulating dates and times in both simple and complex ways."
   ]
  },
  {
   "cell_type": "code",
   "execution_count": 143,
   "metadata": {
    "slideshow": {
     "slide_type": "subslide"
    }
   },
   "outputs": [
    {
     "name": "stdout",
     "output_type": "stream",
     "text": [
      "2017-10-13 12:06:29.610506\n"
     ]
    }
   ],
   "source": [
    "import datetime\n",
    "# Print today's date\n",
    "today = datetime.datetime.today()\n",
    "\n",
    "# Find next friday the 13th\n",
    "while not (today.day == 13 and today.weekday() == 4):\n",
    "    today += datetime.timedelta(days=1)\n",
    "    \n",
    "print(today)"
   ]
  },
  {
   "cell_type": "code",
   "execution_count": null,
   "metadata": {
    "collapsed": true
   },
   "outputs": [],
   "source": [
    "# bonus : how I remmoved all last columns of csv files in a folder\n",
    "import pandas as pd\n",
    "for csvFile in glob('./data/prod*.csv'):\n",
    "    df = pd.read_csv(csvFile, delimiter=\";\")\n",
    "    df.drop(axis=0,inplace=True)\n",
    "    df.to_csv(csvFile,sep=',')"
   ]
  },
  {
   "cell_type": "code",
   "execution_count": null,
   "metadata": {
    "collapsed": true
   },
   "outputs": [],
   "source": []
  }
 ],
 "metadata": {
  "celltoolbar": "Slideshow",
  "kernelspec": {
   "display_name": "Python 3",
   "language": "python",
   "name": "python3"
  },
  "language_info": {
   "codemirror_mode": {
    "name": "ipython",
    "version": 3
   },
   "file_extension": ".py",
   "mimetype": "text/x-python",
   "name": "python",
   "nbconvert_exporter": "python",
   "pygments_lexer": "ipython3",
   "version": "3.5.1"
  }
 },
 "nbformat": 4,
 "nbformat_minor": 2
}
