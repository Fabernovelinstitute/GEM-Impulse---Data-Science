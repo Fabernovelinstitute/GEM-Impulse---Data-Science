{
 "cells": [
  {
   "cell_type": "markdown",
   "metadata": {
    "slideshow": {
     "slide_type": "slide"
    }
   },
   "source": [
    "# Beyond Excel"
   ]
  },
  {
   "cell_type": "markdown",
   "metadata": {
    "slideshow": {
     "slide_type": "slide"
    }
   },
   "source": [
    "# Excel is good for :\n",
    "- Non programmers\n",
    "- Ready-to-use data\n",
    "- Quick and visual analysis\n",
    "- 1 user applications"
   ]
  },
  {
   "cell_type": "markdown",
   "metadata": {
    "slideshow": {
     "slide_type": "slide"
    }
   },
   "source": [
    "# Python is good for :\n",
    "- everything else"
   ]
  },
  {
   "cell_type": "markdown",
   "metadata": {
    "collapsed": true,
    "slideshow": {
     "slide_type": "slide"
    }
   },
   "source": [
    "# But, what is Python ?"
   ]
  },
  {
   "cell_type": "markdown",
   "metadata": {
    "slideshow": {
     "slide_type": "subslide"
    }
   },
   "source": [
    "## Python is a programming language\n"
   ]
  },
  {
   "cell_type": "markdown",
   "metadata": {
    "collapsed": true,
    "slideshow": {
     "slide_type": "subslide"
    }
   },
   "source": [
    "## Used by a lot of people\n",
    "Google, Nasa, Youtube, Dropbox, Reddit, Instagram, MIT ... [list of most Popular Languages (TIOBE Index for May 2017)](https://insights.stackoverflow.com/trends?tags=java%2Cc%2Cc%2B%2B%2Cpython%2Cc%23%2Cvb.net%2Cassembly%2Cphp%2Cperl%2Cruby%2Cswift%2Cr%2Cobjective-c%2Cjavascript)"
   ]
  },
  {
   "cell_type": "markdown",
   "metadata": {
    "slideshow": {
     "slide_type": "subslide"
    }
   },
   "source": [
    "## Free and opensource\n",
    "Everyone can use it, for any purpose. Platforms, websites, cryptography, machine learning, games, softwares, calculation...  \n",
    "Everything is very well documented : [official documentation](https://docs.python.org/3/)"
   ]
  },
  {
   "cell_type": "markdown",
   "metadata": {
    "slideshow": {
     "slide_type": "subslide"
    }
   },
   "source": [
    "## Easy to learn\n",
    "It looks like english pseudo-code"
   ]
  },
  {
   "cell_type": "markdown",
   "metadata": {
    "slideshow": {
     "slide_type": "slide"
    }
   },
   "source": [
    "# About this notebook\n",
    "This notebook is a useful way to run code during a presentation but there are multiple other ways to write and run some Python code.   \n",
    "For example you can open up a shell command and type \"python\".  \n",
    "Or write your code inside a ``.py`` file with a text editor and launch the script from the same shell.  \n"
   ]
  },
  {
   "cell_type": "markdown",
   "metadata": {
    "slideshow": {
     "slide_type": "slide"
    }
   },
   "source": [
    "# A taste of Python data structures\n",
    "Python uses many different objects to store data.   \n",
    "They all have their specifications and their custom methods.  \n",
    "We are going to focus on the two main ones (lists and dicts) which are representative of the \"Python spirit\". "
   ]
  },
  {
   "cell_type": "markdown",
   "metadata": {
    "slideshow": {
     "slide_type": "slide"
    }
   },
   "source": [
    "## Lists\n",
    "Lists are ordered sequence of values.   \n",
    "You can create, update, concatenate, loop, search, index, add, slice, delete, analyse ..."
   ]
  },
  {
   "cell_type": "code",
   "execution_count": 1,
   "metadata": {
    "collapsed": true,
    "slideshow": {
     "slide_type": "subslide"
    }
   },
   "outputs": [],
   "source": [
    "# Here we create a list called zoo with 6 elements\n",
    "zoo = ['cat', 'bat', 'rat', 'elephant','ants','dogs']"
   ]
  },
  {
   "cell_type": "code",
   "execution_count": 2,
   "metadata": {
    "slideshow": {
     "slide_type": "fragment"
    }
   },
   "outputs": [
    {
     "data": {
      "text/plain": [
       "'ants'"
      ]
     },
     "execution_count": 2,
     "metadata": {},
     "output_type": "execute_result"
    }
   ],
   "source": [
    "# we can get any element of the list by calling its position\n",
    "zoo[4]"
   ]
  },
  {
   "cell_type": "code",
   "execution_count": 3,
   "metadata": {
    "slideshow": {
     "slide_type": "fragment"
    }
   },
   "outputs": [
    {
     "data": {
      "text/plain": [
       "True"
      ]
     },
     "execution_count": 3,
     "metadata": {},
     "output_type": "execute_result"
    }
   ],
   "source": [
    "# We can check if an element is in the list with the keyword \"in\"\n",
    "'cat' in zoo"
   ]
  },
  {
   "cell_type": "code",
   "execution_count": 4,
   "metadata": {
    "slideshow": {
     "slide_type": "subslide"
    }
   },
   "outputs": [
    {
     "name": "stdout",
     "output_type": "stream",
     "text": [
      "cat\n",
      "bat\n",
      "rat\n",
      "elephant\n",
      "ants\n",
      "dogs\n"
     ]
    }
   ],
   "source": [
    "# We can loop on our list with the keyword \"for....in\". The name \"animal\" is arbitrary. \n",
    "for animal in zoo:\n",
    "    print(animal)"
   ]
  },
  {
   "cell_type": "code",
   "execution_count": 5,
   "metadata": {
    "slideshow": {
     "slide_type": "subslide"
    }
   },
   "outputs": [
    {
     "data": {
      "text/plain": [
       "['cat', 'rat', 'elephant', 'ants', 'dogs', 'lion']"
      ]
     },
     "execution_count": 5,
     "metadata": {},
     "output_type": "execute_result"
    }
   ],
   "source": [
    "# \"append\" is one of the many methods we can use on our list. It adds an element at the end of the list\n",
    "zoo.append(\"lion\")\n",
    "# Try to search on google \"remove an element from a python list\"\n",
    "zoo.remove(\"bat\")\n",
    "zoo"
   ]
  },
  {
   "cell_type": "code",
   "execution_count": 6,
   "metadata": {
    "slideshow": {
     "slide_type": "fragment"
    }
   },
   "outputs": [
    {
     "data": {
      "text/plain": [
       "6"
      ]
     },
     "execution_count": 6,
     "metadata": {},
     "output_type": "execute_result"
    }
   ],
   "source": [
    "# We can check the length of our list\n",
    "len(zoo)"
   ]
  },
  {
   "cell_type": "code",
   "execution_count": 7,
   "metadata": {
    "slideshow": {
     "slide_type": "fragment"
    }
   },
   "outputs": [
    {
     "data": {
      "text/plain": [
       "5"
      ]
     },
     "execution_count": 7,
     "metadata": {},
     "output_type": "execute_result"
    }
   ],
   "source": [
    "# Find the position of a specific element\n",
    "zoo.index('lion')"
   ]
  },
  {
   "cell_type": "code",
   "execution_count": 8,
   "metadata": {
    "slideshow": {
     "slide_type": "subslide"
    }
   },
   "outputs": [
    {
     "name": "stdout",
     "output_type": "stream",
     "text": [
      "['ants', 'cat', 'dogs', 'elephant', 'lion', 'rat']\n",
      "['cat', 'rat', 'ants', 'dogs', 'lion', 'elephant']\n"
     ]
    }
   ],
   "source": [
    "# Sort all the elements alphabetically\n",
    "zoo.sort()\n",
    "print(zoo)\n",
    "# Or by length\n",
    "zoo.sort(key=len)\n",
    "print(zoo)"
   ]
  },
  {
   "cell_type": "markdown",
   "metadata": {
    "slideshow": {
     "slide_type": "slide"
    }
   },
   "source": [
    "## Dicts\n",
    "Like a list, a dictionary is a collection of many values.  \n",
    "But unlike indexes for lists which are integers (zoo[4]), indexes for dicts can be strings or any other type. \n",
    "Indexes for dictionaries are called keys.  \n",
    "Also dicts are unordered. "
   ]
  },
  {
   "cell_type": "code",
   "execution_count": 9,
   "metadata": {
    "collapsed": true,
    "slideshow": {
     "slide_type": "subslide"
    }
   },
   "outputs": [],
   "source": [
    "# Creation of a dictionnary called \"earth\"\n",
    "earth = {\"sky\":\"blue\",\"sun\":\"yellow\",\"tree\":\"green\"}"
   ]
  },
  {
   "cell_type": "code",
   "execution_count": 10,
   "metadata": {
    "slideshow": {
     "slide_type": "fragment"
    }
   },
   "outputs": [
    {
     "data": {
      "text/plain": [
       "'blue'"
      ]
     },
     "execution_count": 10,
     "metadata": {},
     "output_type": "execute_result"
    }
   ],
   "source": [
    "# Get an element of the dictionnary. It is the same idea as zoo[4], but with a name instead of a number\n",
    "earth[\"sky\"]"
   ]
  },
  {
   "cell_type": "code",
   "execution_count": 11,
   "metadata": {
    "slideshow": {
     "slide_type": "fragment"
    }
   },
   "outputs": [
    {
     "data": {
      "text/plain": [
       "True"
      ]
     },
     "execution_count": 11,
     "metadata": {},
     "output_type": "execute_result"
    }
   ],
   "source": [
    "# Check if a key is in a dictionnary. \n",
    "'sky' in earth"
   ]
  },
  {
   "cell_type": "code",
   "execution_count": 12,
   "metadata": {
    "slideshow": {
     "slide_type": "subslide"
    }
   },
   "outputs": [
    {
     "name": "stdout",
     "output_type": "stream",
     "text": [
      "{'sun': 'yellow', 'tree': 'green', 'sky': 'blue'}\n",
      "sun is yellow\n",
      "tree is green\n",
      "sky is blue\n"
     ]
    }
   ],
   "source": [
    "# Loop on a dictionnary\n",
    "print(earth)\n",
    "for key in earth:\n",
    "    print(key, \"is\", earth[key])"
   ]
  },
  {
   "cell_type": "code",
   "execution_count": 13,
   "metadata": {
    "slideshow": {
     "slide_type": "fragment"
    }
   },
   "outputs": [
    {
     "data": {
      "text/plain": [
       "3"
      ]
     },
     "execution_count": 13,
     "metadata": {},
     "output_type": "execute_result"
    }
   ],
   "source": [
    "# Check the length of a dictionnary. Many methods work the same on different types. \n",
    "len(earth)   "
   ]
  },
  {
   "cell_type": "code",
   "execution_count": 14,
   "metadata": {
    "slideshow": {
     "slide_type": "fragment"
    }
   },
   "outputs": [
    {
     "data": {
      "text/plain": [
       "{'sky': 'blue', 'snow': 'white', 'sun': 'yellow', 'tree': 'green'}"
      ]
     },
     "execution_count": 14,
     "metadata": {},
     "output_type": "execute_result"
    }
   ],
   "source": [
    "  # Create a new element\n",
    "earth[\"snow\"]=\"white\"\n",
    "earth"
   ]
  },
  {
   "cell_type": "markdown",
   "metadata": {
    "slideshow": {
     "slide_type": "slide"
    }
   },
   "source": [
    "## CSV\n",
    "CSV stands for “comma-separated values”.  \n",
    "CSV files are simplified spreadsheets stored as plaintext files.  \n",
    "Python’s csv module makes it easy to parse CSV files.  \n",
    "The advantage of CSV files is simplicity.   \n",
    "They are widely supported by many types of programs, can be viewed in text editors (including IDLE’s file editor), and are a straightforward way to represent spreadsheet data."
   ]
  },
  {
   "cell_type": "code",
   "execution_count": 15,
   "metadata": {
    "slideshow": {
     "slide_type": "subslide"
    }
   },
   "outputs": [
    {
     "name": "stdout",
     "output_type": "stream",
     "text": [
      "['Name', 'Quantity']\n",
      "['Bananas', '3']\n",
      "['Oranges', '4']\n",
      "['Apples', '5']\n"
     ]
    }
   ],
   "source": [
    "# This is how we import a library in Python \n",
    "# Inside this \"csv\" library are stored many useful csv functions accessible through a \".\"\n",
    "import csv\n",
    " \n",
    "# Open the \"basket.csv\" file in the current directory and write 4 rows in it.\n",
    "with open('./data/basket.csv', 'w+') as csvfile:\n",
    "    filewriter = csv.writer(csvfile, delimiter=',')\n",
    "    filewriter.writerow(['Name', 'Quantity'])\n",
    "    filewriter.writerow(['Bananas', 3])\n",
    "    filewriter.writerow(['Oranges', 4])\n",
    "    filewriter.writerow(['Apples', 5])\n",
    "    \n",
    "# Open the same file and read its content\n",
    "with open('./data/basket.csv', 'r+') as f:\n",
    "    reader = csv.reader(f)\n",
    "    # read file row by row\n",
    "    for row in reader:\n",
    "        print(row)"
   ]
  },
  {
   "cell_type": "code",
   "execution_count": 16,
   "metadata": {
    "slideshow": {
     "slide_type": "subslide"
    }
   },
   "outputs": [
    {
     "name": "stdout",
     "output_type": "stream",
     "text": [
      "merging ./data/evolution-trim-raccorde-2009.csv\n",
      "merging ./data/evolution-trim-raccorde-2010.csv\n",
      "merging ./data/evolution-trim-raccorde-2011.csv\n",
      "merging ./data/evolution-trim-raccorde-2013.csv\n",
      "merging ./data/evolution-trim-raccorde-2014.csv\n",
      "merging ./data/evolution-trim-raccorde-2015.csv\n",
      "merging ./data/evolution-trim-raccorde-2016.csv\n",
      "merging ./data/evolution-trim-raccorde-2017.csv\n"
     ]
    }
   ],
   "source": [
    "# Example of script to merge csv files\n",
    "from glob import glob\n",
    "with open('./data/merged.csv', 'a') as singleFile:\n",
    "    singleFile.write('Année;Trimestre;code;typeprod;NB;MW\\n')\n",
    "    for csvFile in glob('./data/evolution*.csv'):\n",
    "        print(\"merging\", csvFile)\n",
    "        for line in open(csvFile, 'r'):\n",
    "            if line.startswith('20'):\n",
    "                singleFile.write(line)"
   ]
  },
  {
   "cell_type": "markdown",
   "metadata": {
    "slideshow": {
     "slide_type": "slide"
    }
   },
   "source": [
    "# JSON\n",
    "When exchanging data between a browser and a server, the data can only be text.  \n",
    "JSON (JavaScript Object Notation) is a lightweight text format that is used for data interchanging.  \n",
    "JSON is useful to know, because many websites offer JSON content as a way for programs to interact with the website. This is known as providing an application programming interface (API)."
   ]
  },
  {
   "cell_type": "code",
   "execution_count": 17,
   "metadata": {
    "slideshow": {
     "slide_type": "subslide"
    }
   },
   "outputs": [
    {
     "name": "stdout",
     "output_type": "stream",
     "text": [
      "Peggy Whitson\n",
      "Fyodor Yurchikhin\n",
      "Jack Fischer\n"
     ]
    }
   ],
   "source": [
    "# Requests is a library to get web page contents inside our code\n",
    "# This script gets some json information on an API and prints it\n",
    "import requests\n",
    "data = requests.get('http://api.open-notify.org/astros.json').json()\n",
    "for people in data['people']:\n",
    "    print(people['name'])"
   ]
  },
  {
   "cell_type": "code",
   "execution_count": 18,
   "metadata": {
    "slideshow": {
     "slide_type": "subslide"
    }
   },
   "outputs": [
    {
     "name": "stdout",
     "output_type": "stream",
     "text": [
      "New position saved\n",
      "New position saved\n",
      "New position saved\n",
      "New position saved\n",
      "New position saved\n",
      "Done !\n"
     ]
    }
   ],
   "source": [
    "# This script asks some information to an API every 2 seconds and saves it in a csv\n",
    "\n",
    "import csv\n",
    "import time\n",
    "import datetime\n",
    "\n",
    "with open('./data/iss-flight.csv', 'w+') as csvfile:\n",
    "    filewriter = csv.writer(csvfile, delimiter=',')\n",
    "    filewriter.writerow(['Time','Latitude','Longitude'])\n",
    "    for i in range(5):\n",
    "        position = requests.get('http://api.open-notify.org/iss-now.json').json()\n",
    "        filewriter.writerow([\n",
    "            position['timestamp'],\n",
    "            position['iss_position']['latitude'], \n",
    "            position['iss_position']['longitude']\n",
    "        ])\n",
    "        print(\"New position saved\")\n",
    "        time.sleep(2)\n",
    "print('Done !')"
   ]
  },
  {
   "cell_type": "markdown",
   "metadata": {
    "slideshow": {
     "slide_type": "slide"
    }
   },
   "source": [
    "# A taste of Python power\n",
    "Python has a huge number of opensource libraries that makes it super powerful.   \n",
    "A library is a set of reusable pre-coded functionalities, like a \"black box\". \n",
    "\n",
    "There is a library for pretty much everything related to computers.  \n",
    "Manipulating images, create games, softwares, linear algebra, search algorithms ...  \n",
    "Here are a few examples. \n"
   ]
  },
  {
   "cell_type": "markdown",
   "metadata": {
    "slideshow": {
     "slide_type": "slide"
    }
   },
   "source": [
    "# Regex\n",
    "\n",
    "A regular expression (or \"regex\") is a sequence of characters that define a search pattern.   \n",
    "Usually this pattern is then used by string searching algorithms for \"find\" or \"find and replace\" operations on strings."
   ]
  },
  {
   "cell_type": "code",
   "execution_count": 19,
   "metadata": {
    "slideshow": {
     "slide_type": "fragment"
    }
   },
   "outputs": [
    {
     "name": "stdout",
     "output_type": "stream",
     "text": [
      "['lucas.berbesson@fabdev.fr', 'claire.protin@fabdev.fr']\n"
     ]
    }
   ],
   "source": [
    "# Script to match all the fabdev.fr emails inside a .txt file\n",
    "import re\n",
    "results = []\n",
    "# Modify the script to match all the emails \n",
    "for line in open('./data/lorem.txt'):\n",
    "    results += re.findall(r'[\\w\\.-]+@fabdev.fr', line)\n",
    "print(results)"
   ]
  },
  {
   "cell_type": "markdown",
   "metadata": {
    "slideshow": {
     "slide_type": "slide"
    }
   },
   "source": [
    "# Sending emails\n",
    "The smtplib module defines an SMTP client session object that can be used to send mail to any Internet machine."
   ]
  },
  {
   "cell_type": "code",
   "execution_count": 20,
   "metadata": {
    "slideshow": {
     "slide_type": "fragment"
    }
   },
   "outputs": [
    {
     "data": {
      "text/plain": [
       "(221, b'2.0.0 closing connection b30sm133222wra.42 - gsmtp')"
      ]
     },
     "execution_count": 20,
     "metadata": {},
     "output_type": "execute_result"
    }
   ],
   "source": [
    "# Send the result of the previous script to lucas.berbesson@fabdev.fr with the smtp library. \n",
    "import os\n",
    "import smtplib \n",
    "server = smtplib.SMTP('smtp.gmail.com', 587)\n",
    "server.starttls()\n",
    "server.login(\"lucasberbesson@gmail.com\", os.environ['MY_PWD'])\n",
    "msg = \"I found {} emails in lorem.txt\".format(len(results))\n",
    "server.sendmail(\"lucasberbesson@gmail.com\",\"lucas.berbesson@fabdev.fr\", msg)\n",
    "server.quit()"
   ]
  },
  {
   "cell_type": "markdown",
   "metadata": {
    "collapsed": true,
    "slideshow": {
     "slide_type": "slide"
    }
   },
   "source": [
    "# BeautifulSoup : XML and HTML parser\n",
    "A Python library for pulling data out of HTML and XML files. [Documentation](https://www.crummy.com/software/BeautifulSoup/bs4/doc/)"
   ]
  },
  {
   "cell_type": "code",
   "execution_count": 21,
   "metadata": {
    "slideshow": {
     "slide_type": "subslide"
    }
   },
   "outputs": [
    {
     "data": {
      "text/html": [
       "<a class=\"article usg-AFQjCNEa3xB1XUdEO9Y-XG_Y_cTUJ1Phug did-4195361339187105399\" href=\"http://www.lefigaro.fr/societes/2017/06/13/20005-20170613ARTFIG00196-direct-energie-et-pluumlm-energie-distingues-pour-leurs-performances-commerciales.php\" id=\"MAA4AEgAUABgAWoCZnJ6AA\" target=\"_blank\" url=\"http://www.lefigaro.fr/societes/2017/06/13/20005-20170613ARTFIG00196-direct-energie-et-pluumlm-energie-distingues-pour-leurs-performances-commerciales.php\"><span class=\"titletext\">Direct <b>Énergie</b> et Plüm <b>Énergie</b> distingués pour leurs performances ...</span></a>"
      ],
      "text/plain": [
       "<IPython.core.display.HTML object>"
      ]
     },
     "metadata": {},
     "output_type": "display_data"
    },
    {
     "data": {
      "text/html": [
       "<a class=\"article usg-AFQjCNH1DqIBuLjE4aI8szpfcvVMCtxJXA did-610519625943584256\" href=\"https://www.lesechos.fr/industrie-services/energie-environnement/030382614828-quand-les-acteurs-de-lenergie-se-penchent-sur-la-blockchain-2094124.php\" id=\"MAA4AEgBUABgAWoCZnJ6AA\" target=\"_blank\" url=\"https://www.lesechos.fr/industrie-services/energie-environnement/030382614828-quand-les-acteurs-de-lenergie-se-penchent-sur-la-blockchain-2094124.php\"><span class=\"titletext\">Quand les acteurs de l'<b>énergie</b> se penchent sur la blockchain</span></a>"
      ],
      "text/plain": [
       "<IPython.core.display.HTML object>"
      ]
     },
     "metadata": {},
     "output_type": "display_data"
    },
    {
     "data": {
      "text/html": [
       "<a class=\"article usg-AFQjCNE56kvv00kfywqywkD4PDOSU9HTgg did-4324815855973812408\" href=\"http://bfmbusiness.bfmtv.com/entreprise/une-nouvelle-etiquette-energie-pour-les-appareils-electromenagers-1185392.html\" id=\"MAA4AEgCUABgAWoCZnJ6AA\" target=\"_blank\" url=\"http://bfmbusiness.bfmtv.com/entreprise/une-nouvelle-etiquette-energie-pour-les-appareils-electromenagers-1185392.html\"><span class=\"titletext\">Une nouvelle étiquette <b>énergie</b> pour les appareils électroménagers</span></a>"
      ],
      "text/plain": [
       "<IPython.core.display.HTML object>"
      ]
     },
     "metadata": {},
     "output_type": "display_data"
    },
    {
     "data": {
      "text/html": [
       "<a class=\"article usg-AFQjCNGYLTIY7f74Nxx3jv5SePVuVpC7OQ did--8519846039987879346\" href=\"https://www.quelleenergie.fr/magazine/quelle-energie/artisan-partenaire-quelleenergie-56273/\" id=\"MAA4AEgDUABgAWoCZnJ6AA\" target=\"_blank\" url=\"https://www.quelleenergie.fr/magazine/quelle-energie/artisan-partenaire-quelleenergie-56273/\"><span class=\"titletext\">Pourquoi choisir un artisan partenaire du réseau Quelle <b>Energie</b> ?</span></a>"
      ],
      "text/plain": [
       "<IPython.core.display.HTML object>"
      ]
     },
     "metadata": {},
     "output_type": "display_data"
    },
    {
     "data": {
      "text/html": [
       "<a class=\"article usg-AFQjCNGDt2tlcmCd92LsHsnpDFqpDPZe5w did-618565936470209067\" href=\"https://www.lesechos.fr/idees-debats/cercle/cercle-170924-la-necessaire-maitrise-des-consommations-denergie-domestique-un-projet-citoyen-strategique-2093655.php\" id=\"MAA4AEgEUABgAWoCZnJ6AA\" target=\"_blank\" url=\"https://www.lesechos.fr/idees-debats/cercle/cercle-170924-la-necessaire-maitrise-des-consommations-denergie-domestique-un-projet-citoyen-strategique-2093655.php\"><span class=\"titletext\">La nécessaire maîtrise des consommations d'<b>énergie</b> domestique ...</span></a>"
      ],
      "text/plain": [
       "<IPython.core.display.HTML object>"
      ]
     },
     "metadata": {},
     "output_type": "display_data"
    },
    {
     "data": {
      "text/html": [
       "<a class=\"article usg-AFQjCNE4ukQHLGiA5KEszuAL7cmZTGJBaA did--3080682485526671571\" href=\"http://www.lefigaro.fr/societes/2017/06/10/20005-20170610ARTFIG00020-le-regulateur-de-l-energie-veut-une-gouvernance-pour-les-donnees.php\" id=\"MAA4AEgFUABgAWoCZnJ6AA\" target=\"_blank\" url=\"http://www.lefigaro.fr/societes/2017/06/10/20005-20170610ARTFIG00020-le-regulateur-de-l-energie-veut-une-gouvernance-pour-les-donnees.php\"><span class=\"titletext\">Le régulateur de l'<b>énergie</b> veut une gouvernance pour les données</span></a>"
      ],
      "text/plain": [
       "<IPython.core.display.HTML object>"
      ]
     },
     "metadata": {},
     "output_type": "display_data"
    },
    {
     "data": {
      "text/html": [
       "<a class=\"article usg-AFQjCNEOWsshVWvOfnwb4_qBaxmVTC6eXw did--5323660057262572539\" href=\"http://www.ladepeche.fr/article/2017/06/13/2592479-l-achat-d-energie-mutualisee-au-conseil.html\" id=\"MAA4AEgGUABgAWoCZnJ6AA\" target=\"_blank\" url=\"http://www.ladepeche.fr/article/2017/06/13/2592479-l-achat-d-energie-mutualisee-au-conseil.html\"><span class=\"titletext\">L'achat d'<b>énergie</b> mutualisée au conseil</span></a>"
      ],
      "text/plain": [
       "<IPython.core.display.HTML object>"
      ]
     },
     "metadata": {},
     "output_type": "display_data"
    },
    {
     "data": {
      "text/html": [
       "<a class=\"article usg-AFQjCNG4dOw_41PSR7D9PgN4c3-Ow_qxpQ did--9103824248336993047\" href=\"http://sport24.lefigaro.fr/basket/nba/fil-info/curry-bourre-d-emotion-et-d-energie-863817\" id=\"MAA4AEgHUABgAWoCZnJ6AA\" target=\"_blank\" url=\"http://sport24.lefigaro.fr/basket/nba/fil-info/curry-bourre-d-emotion-et-d-energie-863817\"><span class=\"titletext\">Curry : «Bourré d'émotion et d'<b>énergie</b>»</span></a>"
      ],
      "text/plain": [
       "<IPython.core.display.HTML object>"
      ]
     },
     "metadata": {},
     "output_type": "display_data"
    },
    {
     "data": {
      "text/html": [
       "<a class=\"article usg-AFQjCNGkk9vvdlikhZTS1486_y_QJwegpg did-5621747433365376260\" href=\"https://www.sciencesetavenir.fr/nature-environnement/savoie-technolac-30-ans-et-de-l-energie-a-revendre_113738\" id=\"MAA4AEgIUABgAWoCZnJ6AA\" target=\"_blank\" url=\"https://www.sciencesetavenir.fr/nature-environnement/savoie-technolac-30-ans-et-de-l-energie-a-revendre_113738\"><span class=\"titletext\">Savoie Technolac, 30 ans et de l'<b>énergie</b> à revendre</span></a>"
      ],
      "text/plain": [
       "<IPython.core.display.HTML object>"
      ]
     },
     "metadata": {},
     "output_type": "display_data"
    },
    {
     "data": {
      "text/html": [
       "<a class=\"article usg-AFQjCNFveqb1MVIqcEGV8rayKvlGF5EC4g did-6794182713993285117\" href=\"https://www.actu-environnement.com/ae/news/alexis-gigleux-mc2igroupe-blockchain-energie-solaire-29174.php4\" id=\"MAA4AEgJUABgAWoCZnJ6AA\" target=\"_blank\" url=\"https://www.actu-environnement.com/ae/news/alexis-gigleux-mc2igroupe-blockchain-energie-solaire-29174.php4\"><span class=\"titletext\">La Blockchain, vers une (r)évolution du secteur de l'<b>Energie</b> ?</span></a>"
      ],
      "text/plain": [
       "<IPython.core.display.HTML object>"
      ]
     },
     "metadata": {},
     "output_type": "display_data"
    },
    {
     "data": {
      "text/html": [
       "<a class=\"article usg-AFQjCNEQxvFU8VgcXOJGQGmh4oepqkR73Q did--6799350544408276365\" href=\"http://www.lemondedelenergie.com/retour-sur-le-smart-energies-2017/2017/06/13/\" id=\"MAA4AEgKUABgAWoCZnJ6AA\" target=\"_blank\" url=\"http://www.lemondedelenergie.com/retour-sur-le-smart-energies-2017/2017/06/13/\"><span class=\"titletext\">Retour sur le SMART <b>ENERGIES</b> 2017</span></a>"
      ],
      "text/plain": [
       "<IPython.core.display.HTML object>"
      ]
     },
     "metadata": {},
     "output_type": "display_data"
    },
    {
     "data": {
      "text/html": [
       "<a class=\"article usg-AFQjCNGuWI1UHJL-_Un2R4n2m4R85AoKLA did-2817568810384379308\" href=\"http://french.cri.cn/621/2017/06/14/562s515879.htm\" id=\"MAA4AEgLUABgAWoCZnJ6AA\" target=\"_blank\" url=\"http://french.cri.cn/621/2017/06/14/562s515879.htm\"><span class=\"titletext\">Le développement de l'énergie issue de la biomasse contribue à la ...</span></a>"
      ],
      "text/plain": [
       "<IPython.core.display.HTML object>"
      ]
     },
     "metadata": {},
     "output_type": "display_data"
    },
    {
     "data": {
      "text/html": [
       "<a class=\"article usg-AFQjCNGkgpOh8fsWElk-Tt_pN1HjLXJqrg did--1893359148536572004\" href=\"http://www.ouest-france.fr/normandie/cherbourg-en-cotentin-50100/la-cgt-energie-convoquee-au-commissariat-de-cherbourg-5057890\" id=\"MAA4AEgMUABgAWoCZnJ6AA\" target=\"_blank\" url=\"http://www.ouest-france.fr/normandie/cherbourg-en-cotentin-50100/la-cgt-energie-convoquee-au-commissariat-de-cherbourg-5057890\"><span class=\"titletext\">La CGT <b>Énergie</b> convoquée au commissariat de Cherbourg</span></a>"
      ],
      "text/plain": [
       "<IPython.core.display.HTML object>"
      ]
     },
     "metadata": {},
     "output_type": "display_data"
    },
    {
     "data": {
      "text/html": [
       "<a class=\"article usg-AFQjCNEOLUsie8HsjU3cCU5l62FiZnMzvg did--431881081087567298\" href=\"http://www.lejsl.com/edition-le-creusot/2017/06/13/que-d-energie-a-la-repetition-publique-de-si-naturel\" id=\"MAA4AEgNUABgAWoCZnJ6AA\" target=\"_blank\" url=\"http://www.lejsl.com/edition-le-creusot/2017/06/13/que-d-energie-a-la-repetition-publique-de-si-naturel\"><span class=\"titletext\">Que d'<b>énergie</b> à la répétition publique de Si Naturel !</span></a>"
      ],
      "text/plain": [
       "<IPython.core.display.HTML object>"
      ]
     },
     "metadata": {},
     "output_type": "display_data"
    },
    {
     "data": {
      "text/html": [
       "<a class=\"article usg-AFQjCNHQON32jwi5CWR_UhwUN9EGqSCl4A did--319034707166470801\" href=\"http://www.numerama.com/tech/265751-pour-elon-musk-lavenir-des-superchargeurs-tesla-passe-par-lenergie-solaire.html\" id=\"MAA4AEgOUABgAWoCZnJ6AA\" target=\"_blank\" url=\"http://www.numerama.com/tech/265751-pour-elon-musk-lavenir-des-superchargeurs-tesla-passe-par-lenergie-solaire.html\"><span class=\"titletext\">Pour Elon Musk, l'avenir des Superchargeurs Tesla passe par l ...</span></a>"
      ],
      "text/plain": [
       "<IPython.core.display.HTML object>"
      ]
     },
     "metadata": {},
     "output_type": "display_data"
    },
    {
     "data": {
      "text/html": [
       "<a class=\"article usg-AFQjCNETeDScHbZ9Cl_WdoSZW2fQujwFbA did--430653658022521239\" href=\"http://www.lefigaro.fr/societes/2017/06/09/20005-20170609ARTFIG00289-les-reseaux-d-energie-face-aux-defis-du-numerique.php\" id=\"MAA4AEgPUABgAWoCZnJ6AA\" target=\"_blank\" url=\"http://www.lefigaro.fr/societes/2017/06/09/20005-20170609ARTFIG00289-les-reseaux-d-energie-face-aux-defis-du-numerique.php\"><span class=\"titletext\">Les réseaux d'<b>énergie</b> face aux défis du numérique</span></a>"
      ],
      "text/plain": [
       "<IPython.core.display.HTML object>"
      ]
     },
     "metadata": {},
     "output_type": "display_data"
    },
    {
     "data": {
      "text/html": [
       "<a class=\"article usg-AFQjCNFy0vPpA-E620GAtFyyB8FKBvCJ4g did-693569944947914493\" href=\"https://www.alternatives-economiques.fr/anne-bringault/energie-edf-va-t-reviser-plan-strategique/00079236\" id=\"MAA4AEgQUABgAWoCZnJ6AA\" target=\"_blank\" url=\"https://www.alternatives-economiques.fr/anne-bringault/energie-edf-va-t-reviser-plan-strategique/00079236\"><span class=\"titletext\"><b>Energie</b> : EDF va-t-il réviser son plan stratégique ?</span></a>"
      ],
      "text/plain": [
       "<IPython.core.display.HTML object>"
      ]
     },
     "metadata": {},
     "output_type": "display_data"
    },
    {
     "data": {
      "text/html": [
       "<a class=\"article usg-AFQjCNEOVnauMlOpd845m4v5ZgBFiF5_Iw did-2242935377831092394\" href=\"http://www.lepaysbriard.fr/leur-maison-doit-produire-plus-d-energie-qu-elle-n-en-consomme-32180/\" id=\"MAA4AEgRUABgAWoCZnJ6AA\" target=\"_blank\" url=\"http://www.lepaysbriard.fr/leur-maison-doit-produire-plus-d-energie-qu-elle-n-en-consomme-32180/\"><span class=\"titletext\">Ozoir-la-Ferrière Leur maison doit produire plus d'<b>énergie</b> qu'elle n ...</span></a>"
      ],
      "text/plain": [
       "<IPython.core.display.HTML object>"
      ]
     },
     "metadata": {},
     "output_type": "display_data"
    },
    {
     "data": {
      "text/html": [
       "<a class=\"article usg-AFQjCNE8f_q6WGFnfVU9CSd6iv2F-KFTBA did--7367803387708892560\" href=\"https://lenergeek.com/2017/06/13/chaleur-geothermique-energie-renouvelable/\" id=\"MAA4AEgSUABgAWoCZnJ6AA\" target=\"_blank\" url=\"https://lenergeek.com/2017/06/13/chaleur-geothermique-energie-renouvelable/\"><span class=\"titletext\">La chaleur géothermique : l'<b>énergie</b> renouvelable mal-aimée</span></a>"
      ],
      "text/plain": [
       "<IPython.core.display.HTML object>"
      ]
     },
     "metadata": {},
     "output_type": "display_data"
    },
    {
     "data": {
      "text/html": [
       "<a class=\"article usg-AFQjCNFcTlJBJ0M5inuQtKKu43X_sO0nRQ did--3945010909830737966\" href=\"http://www.ouest-france.fr/sport/cyclisme/direct-energie/cyclisme-adrien-petit-prolonge-jusqu-en-2019-chez-direct-energie-5055514\" id=\"MAA4AEgTUABgAWoCZnJ6AA\" target=\"_blank\" url=\"http://www.ouest-france.fr/sport/cyclisme/direct-energie/cyclisme-adrien-petit-prolonge-jusqu-en-2019-chez-direct-energie-5055514\"><span class=\"titletext\">Cyclisme. Adrien Petit prolonge jusqu'en 2019 chez Direct Énergie</span></a>"
      ],
      "text/plain": [
       "<IPython.core.display.HTML object>"
      ]
     },
     "metadata": {},
     "output_type": "display_data"
    }
   ],
   "source": [
    "# Print all recent news related to \"energie\"\n",
    "import requests\n",
    "from IPython.core.display import display, HTML\n",
    "from bs4 import BeautifulSoup\n",
    "\n",
    "r = requests.get('https://news.google.com/news/section?q={energie}&ned=fr')\n",
    "soup = BeautifulSoup(r.text, \"lxml\")\n",
    "for link in soup.select(\"h2.esc-lead-article-title a\"):\n",
    "    display(HTML(str(link)))"
   ]
  },
  {
   "cell_type": "markdown",
   "metadata": {
    "collapsed": true,
    "slideshow": {
     "slide_type": "slide"
    }
   },
   "source": [
    "# Time & Datetime\n",
    "The datetime module supplies classes for manipulating dates and times in both simple and complex ways."
   ]
  },
  {
   "cell_type": "code",
   "execution_count": 22,
   "metadata": {
    "slideshow": {
     "slide_type": "subslide"
    }
   },
   "outputs": [
    {
     "name": "stdout",
     "output_type": "stream",
     "text": [
      "2017-06-14 09:17:20.777661\n",
      "2017-10-13 09:17:20.777661\n"
     ]
    }
   ],
   "source": [
    "import datetime\n",
    "# Print today's date\n",
    "today = datetime.datetime.today()\n",
    "print(today)\n",
    "# Find next friday the 13th\n",
    "while not (today.day == 13 and today.weekday() == 4):\n",
    "    today += datetime.timedelta(days=1)\n",
    "print(today)"
   ]
  },
  {
   "cell_type": "code",
   "execution_count": null,
   "metadata": {
    "collapsed": true
   },
   "outputs": [],
   "source": []
  }
 ],
 "metadata": {
  "celltoolbar": "Slideshow",
  "kernelspec": {
   "display_name": "Python 3",
   "language": "python",
   "name": "python3"
  },
  "language_info": {
   "codemirror_mode": {
    "name": "ipython",
    "version": 3
   },
   "file_extension": ".py",
   "mimetype": "text/x-python",
   "name": "python",
   "nbconvert_exporter": "python",
   "pygments_lexer": "ipython3",
   "version": "3.5.1"
  }
 },
 "nbformat": 4,
 "nbformat_minor": 2
}
